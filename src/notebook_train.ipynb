{
 "cells": [
  {
   "cell_type": "code",
   "execution_count": 3,
   "metadata": {},
   "outputs": [],
   "source": [
    "import numpy as np\n",
    "import os\n",
    "import sqlite3\n",
    "\n",
    "from math import ceil\n",
    "\n",
    "import matplotlib.pyplot as plt\n",
    "%matplotlib inline\n",
    "\n",
    "import tensorflow as tf\n",
    "from tensorflow.keras.models import Sequential\n",
    "from tensorflow.keras.layers import InputLayer, Dense, Flatten, Conv2D, MaxPooling2D\n",
    "from tensorflow.keras.regularizers import L1\n",
    "from tensorflow.keras.callbacks import Callback\n",
    "\n",
    "import albumentations as A\n",
    "\n",
    "import pandas as pd\n",
    "from pretty_confusion_matrix import pp_matrix"
   ]
  },
  {
   "cell_type": "code",
   "execution_count": 5,
   "metadata": {},
   "outputs": [
    {
     "name": "stdout",
     "output_type": "stream",
     "text": [
      "DATASET_PATH=/tmp/deepl/data\n",
      "CLASSES=['octane', 'aftershock', 'werewolf', 'breakout']\n"
     ]
    }
   ],
   "source": [
    "IMAGE_SIZE = (400, 150, 3)\n",
    "RESIZED_SIZE = (100, 50, 3)\n",
    "RESIZED_SIZE_PIL = (RESIZED_SIZE[1], RESIZED_SIZE[0], RESIZED_SIZE[2])\n",
    "\n",
    "DATASET_PATH = \"./data/\"\n",
    "DATASET_PATH = os.path.abspath(DATASET_PATH)\n",
    "print(f\"DATASET_PATH={DATASET_PATH}\")\n",
    "\n",
    "# download the dataset archive if necessary\n",
    "if not os.path.isdir(DATASET_PATH):\n",
    "    !wget https://fainsil.users.inpt.fr/content/dataset.zip\n",
    "    !7z x dataset.zip\n",
    "    !rm dataset.zip\n",
    "\n",
    "CLASSES = [\"octane\", \"aftershock\", \"werewolf\", \"breakout\"]\n",
    "print(f\"CLASSES={CLASSES}\")\n",
    "\n",
    "AUTOTUNE = tf.data.experimental.AUTOTUNE\n",
    "BATCH_SIZE = 32\n",
    "EPOCHS = 5\n",
    "STEPS_PER_EPOCH = 1024\n",
    "\n",
    "RANDOM_SEED = 2\n"
   ]
  },
  {
   "cell_type": "code",
   "execution_count": null,
   "metadata": {},
   "outputs": [],
   "source": [
    "def view_image(ds):\n",
    "    images, labels = next(iter(ds)) # extract 1 batch\n",
    "\n",
    "    plt.figure(figsize=(14, 8))\n",
    "    for i in range(9):\n",
    "        plt.subplot(3, 3, i + 1)\n",
    "        plt.title(CLASSES[labels[i]])\n",
    "        plt.imshow(images[i])\n",
    "\n",
    "    plt.tight_layout()\n",
    "    plt.show()\n"
   ]
  },
  {
   "cell_type": "code",
   "execution_count": null,
   "metadata": {},
   "outputs": [],
   "source": [
    "def load_images_from_uuid(uuid, label):\n",
    "    img = tf.io.read_file(DATASET_PATH + \"/\" + uuid + \".jpg\") # format string doesn't work for some unholy reason -> lost +2 hours on that shit\n",
    "    img = tf.image.decode_jpeg(img, channels=IMAGE_SIZE[2])\n",
    "    img = tf.image.resize(img, RESIZED_SIZE_PIL[:-1])\n",
    "    img = tf.cast(img, \"uint8\") # required by albumentation\n",
    "    \n",
    "    return img, label\n"
   ]
  },
  {
   "cell_type": "code",
   "execution_count": null,
   "metadata": {},
   "outputs": [],
   "source": [
    "def split_dataset(ds, ds_size, train_split=0.9, valid_split=0.05, test_split=0.05):\n",
    "    assert (train_split + test_split + valid_split) == 1\n",
    "    \n",
    "    train_size = int(train_split * ds_size)\n",
    "    valid_size = int(valid_split * ds_size)\n",
    "    test_size = int(test_split * ds_size)\n",
    "    \n",
    "    print(f\"train_size={train_size} ({train_split}) -> ({ceil(train_size / BATCH_SIZE)} batchs)\")\n",
    "    print(f\"valid_size={valid_size} ({valid_split}) -> ({ceil(valid_size / BATCH_SIZE)} batchs)\")\n",
    "    print(f\"test_size={test_size} ({test_split}) -> ({ceil(test_size / BATCH_SIZE)} batch)\")\n",
    "    \n",
    "    train_ds = ds.take(train_size)    \n",
    "    valid_ds = ds.skip(train_size).take(valid_size)\n",
    "    test_ds = ds.skip(train_size).skip(valid_size)\n",
    "\n",
    "    return train_ds, valid_ds, test_ds"
   ]
  },
  {
   "cell_type": "code",
   "execution_count": null,
   "metadata": {},
   "outputs": [],
   "source": [
    "# get the dataset using SqlDataset\n",
    "dataset = tf.data.experimental.SqlDataset(\n",
    "    \"sqlite\", f\"{DATASET_PATH}/index.db\", \"SELECT uuid, model from data\", (tf.string, tf.uint8)\n",
    ")\n",
    "\n",
    "# get dataset's length, using sqlite3 since the dataset built by tensorflow has an unknown cardinality\n",
    "(dataset_length,) = sqlite3.connect(f\"{DATASET_PATH}/index.db\").execute(\"SELECT count(uuid) from data\").fetchone()\n",
    "\n",
    "print(f\"dataset_length={dataset_length}\")\n",
    "\n",
    "# shuffle the entire dataset, can't shuffle the sqlite query as it is not seedable\n",
    "tf.random.set_seed(RANDOM_SEED)\n",
    "np.random.seed(RANDOM_SEED)\n",
    "dataset = dataset.shuffle(dataset_length, reshuffle_each_iteration=False)\n",
    "\n",
    "# split dataset into training, validation and testing (split before loading for performance reasons !)\n",
    "ds_train, ds_validation, ds_test = split_dataset(dataset, dataset_length)\n",
    "\n",
    "# load images from uuids\n",
    "ds_train = ds_train.map(load_images_from_uuid, num_parallel_calls=AUTOTUNE)\n",
    "ds_validation = ds_validation.map(load_images_from_uuid, num_parallel_calls=AUTOTUNE)\n",
    "ds_test = ds_test.map(load_images_from_uuid, num_parallel_calls=AUTOTUNE)\n",
    "\n",
    "# repeat training dataset infinitly\n",
    "ds_train = ds_train.repeat()\n",
    "\n",
    "# pre-process for validation and test finished, batching and prefetching\n",
    "ds_validation = ds_validation.batch(BATCH_SIZE).prefetch(AUTOTUNE)\n",
    "ds_test = ds_test.batch(BATCH_SIZE).prefetch(AUTOTUNE)\n"
   ]
  },
  {
   "cell_type": "code",
   "execution_count": null,
   "metadata": {},
   "outputs": [],
   "source": [
    "view_image(ds_train.batch(BATCH_SIZE))"
   ]
  },
  {
   "cell_type": "code",
   "execution_count": null,
   "metadata": {},
   "outputs": [],
   "source": [
    "view_image(ds_validation)"
   ]
  },
  {
   "cell_type": "code",
   "execution_count": null,
   "metadata": {},
   "outputs": [],
   "source": [
    "view_image(ds_test)"
   ]
  },
  {
   "cell_type": "code",
   "execution_count": null,
   "metadata": {},
   "outputs": [],
   "source": [
    "transforms = A.Compose(\n",
    "    [\n",
    "        A.HorizontalFlip(p=0.5),\n",
    "        A.ColorJitter(brightness=0.5, contrast=0.5, saturation=0.5, hue=0.5, p=0.5),\n",
    "        A.CoarseDropout(max_holes=16, max_height=4, max_width=4, p=0.5),\n",
    "    ],\n",
    "    p=1,\n",
    ")\n",
    "\n",
    "\n",
    "def aug_fn(image):\n",
    "    tf.random.set_seed(RANDOM_SEED)\n",
    "    np.random.seed(RANDOM_SEED)\n",
    "    aug_img = transforms(image=image)[\"image\"]\n",
    "    return aug_img\n",
    "\n",
    "\n",
    "def augment_train_dataset(img, label):\n",
    "    aug_img = tf.numpy_function(func=aug_fn, inp=[img], Tout=tf.uint8)\n",
    "    return aug_img, label\n"
   ]
  },
  {
   "cell_type": "code",
   "execution_count": null,
   "metadata": {},
   "outputs": [],
   "source": [
    "def set_shapes(image, label):\n",
    "    image.set_shape(RESIZED_SIZE_PIL)\n",
    "    label.set_shape([])\n",
    "    \n",
    "    return image, label\n"
   ]
  },
  {
   "cell_type": "code",
   "execution_count": null,
   "metadata": {},
   "outputs": [],
   "source": [
    "dsa_train = (\n",
    "    ds_train.map(augment_train_dataset, num_parallel_calls=AUTOTUNE)\n",
    "    .map(set_shapes, num_parallel_calls=AUTOTUNE)\n",
    "    .batch(BATCH_SIZE, num_parallel_calls=AUTOTUNE)\n",
    "    .prefetch(AUTOTUNE)\n",
    ")\n",
    "\n",
    "view_image(dsa_train)\n"
   ]
  },
  {
   "cell_type": "code",
   "execution_count": null,
   "metadata": {},
   "outputs": [],
   "source": [
    "MODELS_PATH = \"models\"\n",
    "MODEL_FILENAME = \"mobile_aug_1e\"\n",
    "\n",
    "# Load model if you do not want to train\n",
    "# model = models.load_model(MODELS_PATH + \"/\" + MODEL_FILENAME)\n"
   ]
  },
  {
   "cell_type": "code",
   "execution_count": null,
   "metadata": {},
   "outputs": [],
   "source": [
    "REGULARIZATION_RATE = 0.05\n",
    "\n",
    "# build the model\n",
    "model = Sequential(\n",
    "    [\n",
    "        InputLayer(input_shape=RESIZED_SIZE_PIL),\n",
    "        Conv2D(32, 3, activation=\"relu\", kernel_regularizer=L1(REGULARIZATION_RATE)),\n",
    "        MaxPooling2D(pool_size=(2, 2)),\n",
    "        Conv2D(64, 3, activation=\"relu\", kernel_regularizer=L1(REGULARIZATION_RATE)),\n",
    "        MaxPooling2D(pool_size=(2, 2)),\n",
    "        Conv2D(128, 3, activation=\"relu\", kernel_regularizer=L1(REGULARIZATION_RATE), name=\"C2D_last\"),\n",
    "        MaxPooling2D(pool_size=(2, 2)),\n",
    "        Flatten(),\n",
    "        Dense(256, activation=\"relu\", kernel_regularizer=L1(REGULARIZATION_RATE)),\n",
    "        Dense(4, activation=\"softmax\"),\n",
    "    ]\n",
    ")\n",
    "\n",
    "model.summary()\n"
   ]
  },
  {
   "cell_type": "code",
   "execution_count": null,
   "metadata": {},
   "outputs": [],
   "source": [
    "class LossHistory(Callback):\n",
    "    def on_train_begin(self, logs={}):\n",
    "        self.losses = []\n",
    "        self.val_losses = []\n",
    "        self.accs = []\n",
    "        self.val_accs = []\n",
    "\n",
    "    def on_batch_end(self, batch, logs={}):\n",
    "        self.losses.append(logs.get('loss'))\n",
    "        self.accs.append(logs.get('accuracy'))\n",
    "    \n",
    "    def on_epoch_end(self, epoch, logs={}):\n",
    "        self.val_losses.append(logs.get('val_loss'))\n",
    "        self.val_accs.append(logs.get('val_accuracy'))\n",
    "\n",
    "history = LossHistory()\n"
   ]
  },
  {
   "cell_type": "code",
   "execution_count": null,
   "metadata": {},
   "outputs": [],
   "source": [
    "# train the model on the dataset\n",
    "model.compile(optimizer=\"adam\", loss=\"sparse_categorical_crossentropy\", metrics=\"accuracy\")\n",
    "model.fit(dsa_train, validation_data=ds_validation, epochs=EPOCHS, callbacks=[history], steps_per_epoch=STEPS_PER_EPOCH)\n"
   ]
  },
  {
   "cell_type": "code",
   "execution_count": null,
   "metadata": {},
   "outputs": [],
   "source": [
    "# Save the weights\n",
    "model.save(f\"models/full_aug_{EPOCHS}e\")\n"
   ]
  },
  {
   "cell_type": "code",
   "execution_count": null,
   "metadata": {},
   "outputs": [],
   "source": [
    "def plot_training_analysis():\n",
    "    acc = history.accs\n",
    "    val_acc = history.val_accs\n",
    "    loss = history.losses\n",
    "    val_loss = history.val_losses\n",
    "\n",
    "    plt.figure(figsize=(18, 8))\n",
    "    plt.subplot(1, 2, 1)\n",
    "    plt.plot(range(len(acc)), acc, \"b\", linestyle=\"--\", label=\"train\")\n",
    "    plt.plot(np.linspace(0, len(acc), len(val_acc)), val_acc, \"g\", label=\"valid.\")\n",
    "    plt.title(\"Accuracy\")\n",
    "    plt.legend()\n",
    "\n",
    "    plt.subplot(1, 2, 2)\n",
    "    plt.plot(range(len(loss)), loss, \"b\", linestyle=\"--\", label=\"train\")\n",
    "    plt.plot(np.linspace(0, len(loss), len(val_loss)), val_loss, \"g\", label=\"valid.\")\n",
    "    plt.title(\"Loss\")\n",
    "    plt.legend()\n",
    "\n",
    "    plt.show()\n",
    "\n",
    "\n",
    "plot_training_analysis()\n"
   ]
  },
  {
   "cell_type": "code",
   "execution_count": null,
   "metadata": {},
   "outputs": [],
   "source": [
    "# extraction des vraies catégories du dataset de test\n",
    "true_categories = tf.concat([label for _, label in ds_test], axis=0)\n",
    "# print(true_categories.numpy())\n",
    "print(\"true categories extracted\")\n",
    "\n",
    "# création des prédictions sur les données de test\n",
    "prediction = model.predict(ds_test)\n",
    "prediction = np.argmax(prediction, axis=1)\n",
    "# print(prediction)\n",
    "print(\"predictions computed\")\n",
    "\n",
    "res = tf.math.confusion_matrix(true_categories, prediction)\n",
    "\n",
    "# get pandas dataframe\n",
    "df_cm = pd.DataFrame(res, CLASSES, CLASSES)\n",
    "\n",
    "# pretty_confusion_matrix\n",
    "pp_matrix(df_cm, cmap=\"PuRd\")"
   ]
  },
  {
   "cell_type": "code",
   "execution_count": null,
   "metadata": {},
   "outputs": [],
   "source": [
    "def make_heatmap(img_array, model, last_conv_layer_name, pred_index=None):\n",
    "    # First, we create a model that maps the input image to the activations\n",
    "    # of the last conv layer as well as the output predictions\n",
    "    grad_model = tf.keras.models.Model(\n",
    "        [model.inputs], [model.get_layer(last_conv_layer_name).output, model.output]\n",
    "    )\n",
    "\n",
    "    # Then, we compute the gradient of the top predicted class for our input image\n",
    "    # with respect to the activations of the last conv layer\n",
    "    with tf.GradientTape() as tape:\n",
    "        last_conv_layer_output, preds = grad_model(img_array)\n",
    "        if pred_index is None:\n",
    "            pred_index = tf.argmax(preds[0])\n",
    "        class_channel = preds[:, pred_index]\n",
    "\n",
    "    # This is the gradient of the output neuron (top predicted or chosen)\n",
    "    # with regard to the output feature map of the last conv layer\n",
    "    grads = tape.gradient(class_channel, last_conv_layer_output)\n",
    "\n",
    "    # This is a vector where each entry is the mean intensity of the gradient\n",
    "    # over a specific feature map channel\n",
    "    pooled_grads = tf.reduce_mean(grads, axis=(0, 1, 2))\n",
    "\n",
    "    # We multiply each channel in the feature map array\n",
    "    # by \"how important this channel is\" with regard to the top predicted class\n",
    "    # then sum all the channels to obtain the heatmap class activation\n",
    "    last_conv_layer_output = last_conv_layer_output[0]\n",
    "    heatmap = last_conv_layer_output @ pooled_grads[..., tf.newaxis]\n",
    "    heatmap = tf.squeeze(heatmap)\n",
    "\n",
    "    # For visualization purpose, we will also normalize the heatmap between 0 & 1\n",
    "    heatmap = tf.maximum(heatmap, 0) / tf.math.reduce_max(heatmap)\n",
    "    \n",
    "    return heatmap.numpy()"
   ]
  },
  {
   "cell_type": "code",
   "execution_count": null,
   "metadata": {},
   "outputs": [],
   "source": [
    "def make_gradcam(img, heatmap, alpha=0.5):\n",
    "    # convert img to float32 to support alpha blending\n",
    "    img = tf.image.convert_image_dtype(img, dtype=tf.float32)\n",
    "\n",
    "    # Rescale heatmap to a range 0-255\n",
    "    heatmap = np.uint8(255 * heatmap)\n",
    "\n",
    "    # Use jet colormap to colorize heatmap\n",
    "    jet = plt.get_cmap(\"jet\")\n",
    "\n",
    "    # Use RGB values of the colormap\n",
    "    jet_colors = jet(np.arange(256))[:, :3]\n",
    "    jet_heatmap = jet_colors[heatmap]\n",
    "\n",
    "    # Create an image with RGB colorized heatmap\n",
    "    jet_heatmap = tf.keras.preprocessing.image.array_to_img(jet_heatmap)\n",
    "    jet_heatmap = jet_heatmap.resize((img.shape[1], img.shape[0]))\n",
    "    jet_heatmap = tf.keras.preprocessing.image.img_to_array(jet_heatmap)\n",
    "    jet_heatmap = jet_heatmap / 255\n",
    "\n",
    "    # Superimpose the heatmap on original image\n",
    "    superimposed_img = jet_heatmap * alpha + img * (1 - alpha)\n",
    "    superimposed_img = tf.keras.preprocessing.image.array_to_img(superimposed_img)\n",
    "\n",
    "    # Display Grad CAM\n",
    "    return superimposed_img\n"
   ]
  },
  {
   "cell_type": "code",
   "execution_count": null,
   "metadata": {},
   "outputs": [],
   "source": [
    "ROWS = 20\n",
    "last_conv_layer_name = \"C2D_last\"\n",
    "plt.figure(figsize=(16, 2*ROWS))\n",
    "\n",
    "for i, (img, _) in enumerate(ds_test.unbatch().take(ROWS)):\n",
    "\n",
    "    X = np.zeros((1, RESIZED_SIZE[1], RESIZED_SIZE[0], RESIZED_SIZE[2]))\n",
    "    X[0] = np.asarray(img)\n",
    "\n",
    "    # Print what the top predicted class is\n",
    "    preds = model.predict(X)\n",
    "    index = np.argmax(preds)\n",
    "\n",
    "    plt.subplot(ROWS, 5, 5*i+1)\n",
    "    plt.imshow(img)\n",
    "    plt.title(f\"prediction: {CLASSES[index]}\")\n",
    "\n",
    "    for j in range(4):\n",
    "        # generate class activation heatmap\n",
    "        heatmap = make_heatmap(X, model, last_conv_layer_name, pred_index=j)\n",
    "        # generate gradmap\n",
    "        gradcam = make_gradcam(img, heatmap)\n",
    "        \n",
    "        plt.subplot(ROWS, 5, 5*i+j+2)\n",
    "        plt.imshow(gradcam)\n",
    "        plt.title(f\"{CLASSES[j]} ({preds[0][j]:.4f})\")\n",
    "\n",
    "plt.tight_layout()\n",
    "plt.show()\n"
   ]
  }
 ],
 "metadata": {
  "interpreter": {
   "hash": "e55666fbbf217aa3df372b978577f47b6009e2f78e2ec76a584f49cd54a1e62c"
  },
  "kernelspec": {
   "display_name": ".env",
   "language": "python",
   "name": ".env"
  },
  "language_info": {
   "codemirror_mode": {
    "name": "ipython",
    "version": 3
   },
   "file_extension": ".py",
   "mimetype": "text/x-python",
   "name": "python",
   "nbconvert_exporter": "python",
   "pygments_lexer": "ipython3",
   "version": "3.8.10"
  },
  "orig_nbformat": 4
 },
 "nbformat": 4,
 "nbformat_minor": 2
}
