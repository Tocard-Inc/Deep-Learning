{
 "cells": [
  {
   "cell_type": "code",
   "execution_count": 2,
   "metadata": {},
   "outputs": [],
   "source": [
    "import numpy as np\n",
    "import PIL.Image\n",
    "import glob\n",
    "import os\n",
    "\n",
    "import matplotlib.pyplot as plt\n",
    "%matplotlib inline"
   ]
  },
  {
   "cell_type": "code",
   "execution_count": null,
   "metadata": {},
   "outputs": [
    {
     "ename": "",
     "evalue": "",
     "output_type": "error",
     "traceback": [
      "\u001b[1;31mnotebook controller is DISPOSED. \n",
      "View Jupyter <a href='command:jupyter.viewOutput'>log</a> for further details."
     ]
    }
   ],
   "source": [
    "IMAGE_SIZE = (400, 150, 3)\n",
    "RESIZED_SIZE = (100, 50, 3)\n",
    "RESIZED_SIZE_PIL = (RESIZED_SIZE[1], RESIZED_SIZE[0], RESIZED_SIZE[2])\n",
    "DATASET_PATH = \"./dataset_rot/\"\n",
    "DATASET_PATH = os.path.abspath(DATASET_PATH)\n",
    "CLASSES = next(os.walk(DATASET_PATH))[1]\n",
    "\n",
    "print(DATASET_PATH)\n",
    "print(CLASSES)"
   ]
  },
  {
   "cell_type": "code",
   "execution_count": null,
   "metadata": {},
   "outputs": [
    {
     "ename": "",
     "evalue": "",
     "output_type": "error",
     "traceback": [
      "\u001b[1;31mnotebook controller is DISPOSED. \n",
      "View Jupyter <a href='command:jupyter.viewOutput'>log</a> for further details."
     ]
    }
   ],
   "source": [
    "def load_data():\n",
    "    # Récupération des fichiers\n",
    "    files = glob.glob(f\"{DATASET_PATH}/**/*.jpg\", recursive = True)\n",
    "\n",
    "    # Initialise les structures de données\n",
    "    x = np.zeros((len(files), *RESIZED_SIZE_PIL))\n",
    "    y = np.zeros((len(files), 1))\n",
    "\n",
    "    # print(f\"x.shape = {x.shape}\")\n",
    "\n",
    "    for i, path in enumerate(files):\n",
    "        # Lecture de l'image\n",
    "        img = PIL.Image.open(path)\n",
    "\n",
    "        # print(f\"img.size = {img.size}\")\n",
    "\n",
    "        # Redimensionnement de l'image\n",
    "        img = img.resize(RESIZED_SIZE[:-1], PIL.Image.ANTIALIAS)\n",
    "\n",
    "        # print(f\"img.size = {img.size}\")\n",
    "\n",
    "        test = np.asarray(img)\n",
    "\n",
    "        # print(f\"test.shape = {test.shape}\")\n",
    "\n",
    "        # Remplissage de la variable x\n",
    "        x[i] = test\n",
    "\n",
    "        # On récupère l'index dans le path\n",
    "        class_label = path.split(\"/\")[-2]\n",
    "\n",
    "        # On récupère le numéro de la classe à partir du string\n",
    "        class_label = CLASSES.index(class_label)\n",
    "        \n",
    "        # Remplissage de la variable y\n",
    "        y[i] = class_label\n",
    "\n",
    "    return x, y"
   ]
  },
  {
   "cell_type": "code",
   "execution_count": null,
   "metadata": {},
   "outputs": [
    {
     "ename": "",
     "evalue": "",
     "output_type": "error",
     "traceback": [
      "\u001b[1;31mnotebook controller is DISPOSED. \n",
      "View Jupyter <a href='command:jupyter.viewOutput'>log</a> for further details."
     ]
    }
   ],
   "source": [
    "x, y = load_data()\n",
    "x = x / 255"
   ]
  },
  {
   "cell_type": "code",
   "execution_count": null,
   "metadata": {},
   "outputs": [
    {
     "ename": "",
     "evalue": "",
     "output_type": "error",
     "traceback": [
      "\u001b[1;31mnotebook controller is DISPOSED. \n",
      "View Jupyter <a href='command:jupyter.viewOutput'>log</a> for further details."
     ]
    }
   ],
   "source": [
    "# Randomisation des indices et affichage de 9 images alétoires de la base d'apprentissage\n",
    "indices = np.arange(x.shape[0])\n",
    "np.random.shuffle(indices)\n",
    "\n",
    "plt.figure(figsize=(12, 6))\n",
    "\n",
    "for i in range(0, 3*3):\n",
    "    plt.subplot(3, 3, i+1)\n",
    "    plt.title(CLASSES[int(y[indices[i]])])\n",
    "    plt.imshow(x[indices[i]])\n",
    "\n",
    "plt.tight_layout()\n",
    "plt.show()"
   ]
  },
  {
   "cell_type": "code",
   "execution_count": null,
   "metadata": {},
   "outputs": [
    {
     "ename": "",
     "evalue": "",
     "output_type": "error",
     "traceback": [
      "\u001b[1;31mnotebook controller is DISPOSED. \n",
      "View Jupyter <a href='command:jupyter.viewOutput'>log</a> for further details."
     ]
    }
   ],
   "source": [
    "import tensorflow\n",
    "from tensorflow.keras.models import Sequential\n",
    "from tensorflow.keras.layers import InputLayer, Dense, Flatten, Conv2D, MaxPooling2D\n",
    "from tensorflow.keras import optimizers"
   ]
  },
  {
   "cell_type": "code",
   "execution_count": null,
   "metadata": {},
   "outputs": [
    {
     "ename": "",
     "evalue": "",
     "output_type": "error",
     "traceback": [
      "\u001b[1;31mnotebook controller is DISPOSED. \n",
      "View Jupyter <a href='command:jupyter.viewOutput'>log</a> for further details."
     ]
    }
   ],
   "source": [
    "model = Sequential()\n",
    "\n",
    "model.add(InputLayer(input_shape=RESIZED_SIZE_PIL))\n",
    "\n",
    "model.add(Conv2D(32, 3, activation=\"relu\"))\n",
    "model.add(MaxPooling2D(pool_size=(2, 2)))\n",
    "\n",
    "model.add(Conv2D(64, 3, activation=\"relu\"))\n",
    "model.add(MaxPooling2D(pool_size=(2, 2)))\n",
    "\n",
    "model.add(Conv2D(92, 3, activation=\"relu\"))\n",
    "model.add(MaxPooling2D(pool_size=(2, 2)))\n",
    "\n",
    "model.add(Flatten())\n",
    "\n",
    "model.add(Dense(250, activation=\"relu\"))\n",
    "\n",
    "model.add(Dense(4, activation=\"softmax\"))\n",
    "\n",
    "model.summary()\n",
    "\n",
    "adam = optimizers.Adam(learning_rate=7e-6)\n",
    "model.compile(optimizer=adam, loss='sparse_categorical_crossentropy', metrics=['accuracy'])\n",
    "history = model.fit(x, y, validation_split=0.15, epochs=10, batch_size=25)"
   ]
  },
  {
   "cell_type": "code",
   "execution_count": null,
   "metadata": {},
   "outputs": [
    {
     "ename": "",
     "evalue": "",
     "output_type": "error",
     "traceback": [
      "\u001b[1;31mnotebook controller is DISPOSED. \n",
      "View Jupyter <a href='command:jupyter.viewOutput'>log</a> for further details."
     ]
    }
   ],
   "source": [
    "def plot_training_analysis():\n",
    "  acc = history.history['accuracy']\n",
    "  val_acc = history.history['val_accuracy']\n",
    "  loss = history.history['loss']\n",
    "  val_loss = history.history['val_loss']\n",
    "\n",
    "  epochs = range(len(acc))\n",
    "\n",
    "  plt.plot(epochs, acc, 'b', linestyle=\"--\",label='Training acc')\n",
    "  plt.plot(epochs, val_acc, 'g', label='Validation acc')\n",
    "  plt.title('Training and validation accuracy')\n",
    "  plt.legend()\n",
    "\n",
    "  plt.figure()\n",
    "\n",
    "  plt.plot(epochs, loss, 'b', linestyle=\"--\",label='Training loss')\n",
    "  plt.plot(epochs, val_loss,'g', label='Validation loss')\n",
    "  plt.title('Training and validation loss')\n",
    "  plt.legend()\n",
    "\n",
    "  plt.show()\n",
    "\n",
    "plot_training_analysis()"
   ]
  },
  {
   "cell_type": "code",
   "execution_count": 3,
   "metadata": {},
   "outputs": [
    {
     "name": "stdout",
     "output_type": "stream",
     "text": [
      "/tmp/deepl/data\n",
      "[]\n"
     ]
    }
   ],
   "source": [
    "IMAGE_SIZE = (400, 150, 3)\n",
    "RESIZED_SIZE = (100, 50, 3)\n",
    "RESIZED_SIZE_PIL = (RESIZED_SIZE[1], RESIZED_SIZE[0], RESIZED_SIZE[2])\n",
    "DATASET_PATH = \"./data/\"\n",
    "DATASET_PATH = os.path.abspath(DATASET_PATH)\n",
    "CLASSES = next(os.walk(DATASET_PATH))[1]\n",
    "\n",
    "print(DATASET_PATH)\n",
    "print(CLASSES)"
   ]
  },
  {
   "cell_type": "code",
   "execution_count": 6,
   "metadata": {},
   "outputs": [],
   "source": [
    "import tensorflow\n",
    "from tensorflow.keras.models import Sequential\n",
    "from tensorflow.keras.layers import InputLayer, Dense, Flatten, Conv2D, MaxPooling2D\n",
    "from tensorflow.keras import optimizers"
   ]
  },
  {
   "cell_type": "code",
   "execution_count": 27,
   "metadata": {},
   "outputs": [
    {
     "name": "stdout",
     "output_type": "stream",
     "text": [
      "dataset_length = 10000\n",
      "batch size = 32\n",
      "number of batchs = 312\n",
      "\n",
      "train_size = 250\n",
      "validation_size = 9750\n"
     ]
    }
   ],
   "source": [
    "import tensorflow as tf\n",
    "import tensorflow_addons as tfa\n",
    "import sqlite3\n",
    "\n",
    "AUTOTUNE = tf.data.experimental.AUTOTUNE\n",
    "BATCH_SIZE = 32\n",
    "SHUFFLE_SIZE = 32\n",
    "LIMIT = 10000\n",
    "\n",
    "def customGenerator():\n",
    "    data = sqlite3.connect(f\"{DATASET_PATH}/index.db\").execute(f\"SELECT uuid, model from data LIMIT {LIMIT}\").fetchall()\n",
    "\n",
    "    for uuid, model in data:\n",
    "        img = tf.io.read_file(f\"{DATASET_PATH}/{uuid}.jpg\")\n",
    "        img = tf.image.decode_jpeg(img, channels=IMAGE_SIZE[2])\n",
    "        img = tf.image.convert_image_dtype(img, tf.float32)\n",
    "        img = tf.image.resize(img, RESIZED_SIZE[:-1])\n",
    "        \n",
    "        label = tf.convert_to_tensor(model, dtype=tf.uint8)\n",
    "        \n",
    "        yield img, label\n",
    "\n",
    "def cutout(image, label):\n",
    "    img = tfa.image.random_cutout(image, (6, 6), constant_values=1)\n",
    "    return (img, label)\n",
    "\n",
    "def rotate(image,label) :\n",
    "    img = tfa.image.rotate(image, tf.constant(np.pi))   \n",
    "    return (img, label)\n",
    "\n",
    "def set_shapes(image, label):\n",
    "    image.set_shape(RESIZED_SIZE)\n",
    "    label.set_shape([])\n",
    "    return image, label\n",
    "\n",
    "dataset = tf.data.Dataset.from_generator(\n",
    "    generator=customGenerator, \n",
    "    output_types=(tf.float32, tf.uint8)\n",
    ")\n",
    "\n",
    "(dataset_length,) = sqlite3.connect(f\"{DATASET_PATH}/index.db\").execute(\"SELECT count(uuid) from data\").fetchone()\n",
    "dataset_length = min(dataset_length, LIMIT)\n",
    "\n",
    "print(f\"dataset_length = {dataset_length}\")\n",
    "print(f\"batch size = {BATCH_SIZE}\")\n",
    "print(f\"number of batchs = {dataset_length // BATCH_SIZE}\")\n",
    "\n",
    "print()\n",
    "\n",
    "train_size = int(0.8 * dataset_length / BATCH_SIZE)\n",
    "print(f\"train_size = {train_size}\")\n",
    "print(f\"validation_size = {dataset_length - train_size}\")\n",
    "\n",
    "dataset = (\n",
    "    dataset.shuffle(SHUFFLE_SIZE)\n",
    "    .map(set_shapes)\n",
    "    .batch(BATCH_SIZE)\n",
    "    # .map(cutout)\n",
    "    .prefetch(AUTOTUNE)\n",
    ")\n",
    "\n",
    "dataset_train = dataset.take(train_size)\n",
    "dataset_validate = dataset.skip(train_size)\n",
    "\n",
    "# print()\n",
    "# print(RESIZED_SIZE)\n",
    "# for boop in dataset_train.take(2):\n",
    "#     print(boop)\n",
    "\n",
    "# for image_batch, label_batch in dataset.take(1):\n",
    "#     print(label_batch.shape, image_batch.shape)\n",
    "#     pass\n",
    "# for image_batch, label_batch in dataset_train.take(1):\n",
    "#     print(label_batch.shape, image_batch.shape)\n",
    "#     pass\n",
    "# for image_batch, label_batch in dataset_validate.take(1):\n",
    "#     print(label_batch.shape, image_batch.shape)\n",
    "#     pass"
   ]
  },
  {
   "cell_type": "code",
   "execution_count": 30,
   "metadata": {},
   "outputs": [
    {
     "name": "stdout",
     "output_type": "stream",
     "text": [
      "Model: \"sequential_7\"\n",
      "_________________________________________________________________\n",
      " Layer (type)                Output Shape              Param #   \n",
      "=================================================================\n",
      " conv2d_21 (Conv2D)          (None, 98, 48, 32)        896       \n",
      "                                                                 \n",
      " max_pooling2d_21 (MaxPoolin  (None, 49, 24, 32)       0         \n",
      " g2D)                                                            \n",
      "                                                                 \n",
      " conv2d_22 (Conv2D)          (None, 47, 22, 64)        18496     \n",
      "                                                                 \n",
      " max_pooling2d_22 (MaxPoolin  (None, 23, 11, 64)       0         \n",
      " g2D)                                                            \n",
      "                                                                 \n",
      " conv2d_23 (Conv2D)          (None, 21, 9, 92)         53084     \n",
      "                                                                 \n",
      " max_pooling2d_23 (MaxPoolin  (None, 10, 4, 92)        0         \n",
      " g2D)                                                            \n",
      "                                                                 \n",
      " flatten_7 (Flatten)         (None, 3680)              0         \n",
      "                                                                 \n",
      " dense_14 (Dense)            (None, 250)               920250    \n",
      "                                                                 \n",
      " dense_15 (Dense)            (None, 4)                 1004      \n",
      "                                                                 \n",
      "=================================================================\n",
      "Total params: 993,730\n",
      "Trainable params: 993,730\n",
      "Non-trainable params: 0\n",
      "_________________________________________________________________\n",
      "Epoch 1/25\n",
      "250/250 [==============================] - 53s 211ms/step - loss: 0.9718 - accuracy: 0.6635 - val_loss: 2.2070 - val_accuracy: 0.1400\n",
      "Epoch 2/25\n",
      "250/250 [==============================] - 52s 209ms/step - loss: 0.7459 - accuracy: 0.6416 - val_loss: 2.2988 - val_accuracy: 0.1400\n",
      "Epoch 3/25\n",
      "250/250 [==============================] - 53s 210ms/step - loss: 0.6746 - accuracy: 0.6664 - val_loss: 2.4333 - val_accuracy: 0.1400\n",
      "Epoch 4/25\n",
      "250/250 [==============================] - 53s 211ms/step - loss: 0.6437 - accuracy: 0.6920 - val_loss: 2.3739 - val_accuracy: 0.1400\n",
      "Epoch 5/25\n",
      "250/250 [==============================] - 53s 211ms/step - loss: 0.5982 - accuracy: 0.7157 - val_loss: 2.1336 - val_accuracy: 0.1400\n",
      "Epoch 6/25\n",
      "250/250 [==============================] - 53s 210ms/step - loss: 0.5497 - accuracy: 0.7380 - val_loss: 2.0098 - val_accuracy: 0.1400\n",
      "Epoch 7/25\n",
      "250/250 [==============================] - 53s 210ms/step - loss: 0.5108 - accuracy: 0.7561 - val_loss: 1.9775 - val_accuracy: 0.1400\n",
      "Epoch 8/25\n",
      "250/250 [==============================] - 53s 211ms/step - loss: 0.4761 - accuracy: 0.7725 - val_loss: 1.9294 - val_accuracy: 0.1400\n",
      "Epoch 9/25\n",
      "250/250 [==============================] - 53s 210ms/step - loss: 0.4304 - accuracy: 0.7940 - val_loss: 2.0166 - val_accuracy: 0.1400\n",
      "Epoch 10/25\n",
      "250/250 [==============================] - 53s 214ms/step - loss: 0.4140 - accuracy: 0.8075 - val_loss: 1.7652 - val_accuracy: 0.1400\n",
      "Epoch 11/25\n",
      "250/250 [==============================] - 53s 211ms/step - loss: 0.3672 - accuracy: 0.8279 - val_loss: 1.6594 - val_accuracy: 0.1400\n",
      "Epoch 12/25\n",
      "250/250 [==============================] - 53s 211ms/step - loss: 0.3285 - accuracy: 0.8512 - val_loss: 1.5178 - val_accuracy: 0.1400\n",
      "Epoch 13/25\n",
      "250/250 [==============================] - 52s 210ms/step - loss: 0.2867 - accuracy: 0.8702 - val_loss: 1.4753 - val_accuracy: 0.1400\n",
      "Epoch 14/25\n",
      "250/250 [==============================] - 52s 209ms/step - loss: 0.2500 - accuracy: 0.8905 - val_loss: 1.3835 - val_accuracy: 0.1400\n",
      "Epoch 15/25\n",
      "250/250 [==============================] - 53s 210ms/step - loss: 0.2186 - accuracy: 0.9100 - val_loss: 1.1579 - val_accuracy: 0.1405\n",
      "Epoch 16/25\n",
      "250/250 [==============================] - 53s 210ms/step - loss: 0.1810 - accuracy: 0.9309 - val_loss: 1.0902 - val_accuracy: 0.1510\n",
      "Epoch 17/25\n",
      "250/250 [==============================] - 52s 210ms/step - loss: 0.1555 - accuracy: 0.9451 - val_loss: 0.9250 - val_accuracy: 0.2240\n",
      "Epoch 18/25\n",
      "250/250 [==============================] - 53s 210ms/step - loss: 0.1280 - accuracy: 0.9626 - val_loss: 0.7926 - val_accuracy: 0.3720\n",
      "Epoch 19/25\n",
      "250/250 [==============================] - 53s 212ms/step - loss: 0.1065 - accuracy: 0.9728 - val_loss: 0.6717 - val_accuracy: 0.5145\n",
      "Epoch 20/25\n",
      "250/250 [==============================] - 53s 211ms/step - loss: 0.0878 - accuracy: 0.9816 - val_loss: 0.5564 - val_accuracy: 0.6530\n",
      "Epoch 21/25\n",
      "250/250 [==============================] - 53s 212ms/step - loss: 0.0714 - accuracy: 0.9901 - val_loss: 0.4285 - val_accuracy: 0.8095\n",
      "Epoch 22/25\n",
      "250/250 [==============================] - 53s 212ms/step - loss: 0.0567 - accuracy: 0.9942 - val_loss: 0.3829 - val_accuracy: 0.8545\n",
      "Epoch 23/25\n",
      "250/250 [==============================] - 53s 213ms/step - loss: 0.0473 - accuracy: 0.9975 - val_loss: 0.2913 - val_accuracy: 0.9285\n",
      "Epoch 24/25\n",
      "250/250 [==============================] - 53s 210ms/step - loss: 0.0383 - accuracy: 0.9990 - val_loss: 0.2352 - val_accuracy: 0.9615\n",
      "Epoch 25/25\n",
      "250/250 [==============================] - 53s 211ms/step - loss: 0.0311 - accuracy: 0.9996 - val_loss: 0.1907 - val_accuracy: 0.9815\n"
     ]
    }
   ],
   "source": [
    "model = Sequential([\n",
    "    InputLayer(input_shape=RESIZED_SIZE),\n",
    "    \n",
    "    Conv2D(32, 3, activation=\"relu\"),\n",
    "    MaxPooling2D(pool_size=(2, 2)),\n",
    "    \n",
    "    Conv2D(64, 3, activation=\"relu\"),\n",
    "    MaxPooling2D(pool_size=(2, 2)),\n",
    "\n",
    "    Conv2D(92, 3, activation=\"relu\"),\n",
    "    MaxPooling2D(pool_size=(2, 2)),\n",
    "\n",
    "    Flatten(),\n",
    "\n",
    "    Dense(250, activation=\"relu\"),\n",
    "    Dense(4, activation=\"softmax\")\n",
    "])\n",
    "\n",
    "model.summary()\n",
    "\n",
    "adam = optimizers.Adam(learning_rate=7e-6)\n",
    "model.compile(optimizer=adam, loss='sparse_categorical_crossentropy', metrics=['accuracy'])\n",
    "history = model.fit(dataset_train, validation_data=dataset_validate, epochs=25, batch_size=BATCH_SIZE)"
   ]
  },
  {
   "cell_type": "code",
   "execution_count": 31,
   "metadata": {},
   "outputs": [
    {
     "data": {
      "image/png": "[encoded data removed]",
      "text/plain": [
       "<Figure size 432x288 with 1 Axes>"
      ]
     },
     "metadata": {
      "needs_background": "light"
     },
     "output_type": "display_data"
    },
    {
     "data": {
      "image/png": "[encoded data removed]",
      "text/plain": [
       "<Figure size 432x288 with 1 Axes>"
      ]
     },
     "metadata": {
      "needs_background": "light"
     },
     "output_type": "display_data"
    }
   ],
   "source": [
    "def plot_training_analysis():\n",
    "    acc = history.history[\"accuracy\"]\n",
    "    val_acc = history.history[\"val_accuracy\"]\n",
    "    loss = history.history[\"loss\"]\n",
    "    val_loss = history.history[\"val_loss\"]\n",
    "\n",
    "    epochs = range(len(loss))\n",
    "\n",
    "    plt.plot(epochs, acc, \"b\", linestyle=\"--\", label=\"Training acc\")\n",
    "    plt.plot(epochs, val_acc, \"g\", label=\"Validation acc\")\n",
    "    plt.title(\"Training and validation accuracy\")\n",
    "    plt.legend()\n",
    "\n",
    "    plt.figure()\n",
    "\n",
    "    plt.plot(epochs, loss, \"b\", linestyle=\"--\", label=\"Training loss\")\n",
    "    plt.plot(epochs, val_loss, \"g\", label=\"Validation loss\")\n",
    "    plt.title(\"Training and validation loss\")\n",
    "    plt.legend()\n",
    "\n",
    "    plt.show()\n",
    "\n",
    "\n",
    "plot_training_analysis()\n"
   ]
  }
 ],
 "metadata": {
  "interpreter": {
   "hash": "e55666fbbf217aa3df372b978577f47b6009e2f78e2ec76a584f49cd54a1e62c"
  },
  "kernelspec": {
   "display_name": ".env",
   "language": "python",
   "name": ".env"
  },
  "language_info": {
   "codemirror_mode": {
    "name": "ipython",
    "version": 3
   },
   "file_extension": ".py",
   "mimetype": "text/x-python",
   "name": "python",
   "nbconvert_exporter": "python",
   "pygments_lexer": "ipython3",
   "version": "3.8.10"
  },
  "orig_nbformat": 4
 },
 "nbformat": 4,
 "nbformat_minor": 2
}
